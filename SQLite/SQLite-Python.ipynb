{
 "cells": [
  {
   "cell_type": "markdown",
   "id": "f1edcfaa",
   "metadata": {},
   "source": [
    "### 1. Make a connection"
   ]
  },
  {
   "cell_type": "code",
   "execution_count": 1,
   "id": "a0fa66a8",
   "metadata": {},
   "outputs": [],
   "source": [
    "import sqlite3"
   ]
  },
  {
   "cell_type": "code",
   "execution_count": 2,
   "id": "3eb45138",
   "metadata": {},
   "outputs": [],
   "source": [
    "connection_new = sqlite3.connect(\"data_testing.db\")"
   ]
  },
  {
   "cell_type": "markdown",
   "id": "e3bb6a15",
   "metadata": {},
   "source": [
    "### 2. Get the type"
   ]
  },
  {
   "cell_type": "code",
   "execution_count": 3,
   "id": "7a6bb77d",
   "metadata": {},
   "outputs": [
    {
     "data": {
      "text/plain": [
       "sqlite3.Connection"
      ]
     },
     "execution_count": 3,
     "metadata": {},
     "output_type": "execute_result"
    }
   ],
   "source": [
    "type(connection_new)"
   ]
  },
  {
   "cell_type": "code",
   "execution_count": 5,
   "id": "ff89b902",
   "metadata": {},
   "outputs": [
    {
     "name": "stdout",
     "output_type": "stream",
     "text": [
      "<class 'sqlite3.Connection'>\n"
     ]
    }
   ],
   "source": [
    "print(type(connection_new))"
   ]
  },
  {
   "cell_type": "markdown",
   "id": "cf83a8db",
   "metadata": {},
   "source": [
    "### 3. Initiate the cursor"
   ]
  },
  {
   "cell_type": "code",
   "execution_count": 6,
   "id": "7079216b",
   "metadata": {},
   "outputs": [
    {
     "name": "stdout",
     "output_type": "stream",
     "text": [
      "<class 'sqlite3.Cursor'>\n"
     ]
    }
   ],
   "source": [
    "cursor_new = connection_new.cursor()\n",
    "print(type(cursor_new))"
   ]
  },
  {
   "cell_type": "markdown",
   "id": "76cff8b4",
   "metadata": {},
   "source": [
    "### 4. Get the current local time"
   ]
  },
  {
   "cell_type": "code",
   "execution_count": 7,
   "id": "2a1798ae",
   "metadata": {},
   "outputs": [],
   "source": [
    "sql_new = \"SELECT datetime('now', 'localtime');\""
   ]
  },
  {
   "cell_type": "code",
   "execution_count": 8,
   "id": "ad74b096",
   "metadata": {},
   "outputs": [
    {
     "data": {
      "text/plain": [
       "<sqlite3.Cursor at 0x22abfa6b6c0>"
      ]
     },
     "execution_count": 8,
     "metadata": {},
     "output_type": "execute_result"
    }
   ],
   "source": [
    "cursor_new.execute(sql_new)"
   ]
  },
  {
   "cell_type": "code",
   "execution_count": 9,
   "id": "a731797f",
   "metadata": {},
   "outputs": [
    {
     "data": {
      "text/plain": [
       "('2023-12-25 18:16:56',)"
      ]
     },
     "execution_count": 9,
     "metadata": {},
     "output_type": "execute_result"
    }
   ],
   "source": [
    "cursor_new.fetchone()"
   ]
  },
  {
   "cell_type": "code",
   "execution_count": 10,
   "id": "3c21092e",
   "metadata": {},
   "outputs": [],
   "source": [
    "dtime_new = cursor_new.execute(sql_new).fetchone()[0]"
   ]
  },
  {
   "cell_type": "code",
   "execution_count": 11,
   "id": "f7428b8b",
   "metadata": {},
   "outputs": [
    {
     "name": "stdout",
     "output_type": "stream",
     "text": [
      "2023-12-25 18:18:28\n"
     ]
    }
   ],
   "source": [
    "print(dtime_new)"
   ]
  },
  {
   "cell_type": "markdown",
   "id": "f928f352",
   "metadata": {},
   "source": [
    "### 5. Use the close() function"
   ]
  },
  {
   "cell_type": "code",
   "execution_count": 12,
   "id": "33c4220d",
   "metadata": {},
   "outputs": [],
   "source": [
    "connection_new.close()"
   ]
  },
  {
   "cell_type": "markdown",
   "id": "f69bbba5",
   "metadata": {},
   "source": [
    "### 6. Manage all the database connection inside the same block of code"
   ]
  },
  {
   "cell_type": "code",
   "execution_count": 14,
   "id": "8da9f409",
   "metadata": {},
   "outputs": [],
   "source": [
    "with sqlite3.connect(\"data_testing.db\") as connection_new:\n",
    "    cursor_new = connection_new.cursor()\n",
    "    sql_new = \"SELECT datetime('now', 'localtime');\"\n",
    "    dtime_new = cursor_new.execute(sql_new).fetchone()[0]"
   ]
  },
  {
   "cell_type": "code",
   "execution_count": 15,
   "id": "dd7c877a",
   "metadata": {},
   "outputs": [
    {
     "name": "stdout",
     "output_type": "stream",
     "text": [
      "2023-12-25 18:23:13\n"
     ]
    }
   ],
   "source": [
    "print(dtime_new)"
   ]
  },
  {
   "cell_type": "markdown",
   "id": "d1f4e107",
   "metadata": {},
   "source": [
    "### 7. Create a table in the SQLite database"
   ]
  },
  {
   "cell_type": "code",
   "execution_count": 16,
   "id": "eb4e0ca4",
   "metadata": {},
   "outputs": [],
   "source": [
    "import sqlite3\n",
    "\n",
    "connection_new = sqlite3.connect(\"data_testing.db\")\n",
    "cursor_new = connection_new.cursor()\n",
    "\n",
    "cursor_new.execute(\"CREATE TABLE clients(Name TEXT, Number INT);\")\n",
    "cursor_new.execute(\"INSERT INTO clients VALUES('Tyson', 2030);\")\n",
    "\n",
    "connection_new.commit()\n",
    "connection_new.close()"
   ]
  },
  {
   "cell_type": "markdown",
   "id": "a94f32c5",
   "metadata": {},
   "source": [
    "### 8. Fetch the results from the clients table"
   ]
  },
  {
   "cell_type": "code",
   "execution_count": 17,
   "id": "d3e3b0ed",
   "metadata": {},
   "outputs": [
    {
     "data": {
      "text/plain": [
       "<sqlite3.Cursor at 0x22ac06dbf40>"
      ]
     },
     "execution_count": 17,
     "metadata": {},
     "output_type": "execute_result"
    }
   ],
   "source": [
    "connection_new = sqlite3.connect(\"data_testing.db\")\n",
    "cursor_new = connection_new.cursor()\n",
    "\n",
    "cursor_new.execute(\"SELECT * FROM clients;\")"
   ]
  },
  {
   "cell_type": "code",
   "execution_count": 18,
   "id": "244d1678",
   "metadata": {},
   "outputs": [
    {
     "data": {
      "text/plain": [
       "('Tyson', 2030)"
      ]
     },
     "execution_count": 18,
     "metadata": {},
     "output_type": "execute_result"
    }
   ],
   "source": [
    "cursor_new.fetchone()"
   ]
  },
  {
   "cell_type": "markdown",
   "id": "30e62823",
   "metadata": {},
   "source": [
    "### 9. Remove a table"
   ]
  },
  {
   "cell_type": "code",
   "execution_count": 19,
   "id": "77e7fff0",
   "metadata": {},
   "outputs": [
    {
     "data": {
      "text/plain": [
       "<sqlite3.Cursor at 0x22ac06dbf40>"
      ]
     },
     "execution_count": 19,
     "metadata": {},
     "output_type": "execute_result"
    }
   ],
   "source": [
    "cursor_new.execute(\"DROP TABLE clients;\")"
   ]
  },
  {
   "cell_type": "code",
   "execution_count": 20,
   "id": "b4532e7f",
   "metadata": {},
   "outputs": [],
   "source": [
    "connection_new.commit()\n",
    "connection_new.close()"
   ]
  },
  {
   "cell_type": "markdown",
   "id": "143d363f",
   "metadata": {},
   "source": [
    "### 10. Full program to fetch all data from data_testing database"
   ]
  },
  {
   "cell_type": "code",
   "execution_count": 21,
   "id": "71e6e63f",
   "metadata": {},
   "outputs": [
    {
     "name": "stdout",
     "output_type": "stream",
     "text": [
      "('Scholes', 30)\n",
      "('Giggs', 11)\n"
     ]
    }
   ],
   "source": [
    "import sqlite3\n",
    "\n",
    "new_values = (\n",
    "    (\"Ronaldo\", 7),\n",
    "    (\"Scholes\", 30),\n",
    "    (\"Giggs\", 11),\n",
    ")\n",
    "\n",
    "with sqlite3.connect(\"data_testing.db\") as new_connection:\n",
    "    new_cursor = new_connection.cursor()\n",
    "    new_cursor.execute(\"DROP TABLE IF EXISTS clients\")\n",
    "    new_cursor.execute(\"CREATE TABLE clients(Name TEXT, Number INT);\")\n",
    "    new_cursor.executemany(\"INSERT INTO clients VALUES(?, ?)\", new_values)\n",
    "    new_cursor.execute(\"SELECT Name, Number FROM clients WHERE Number > 7;\")\n",
    "    \n",
    "    for x in new_cursor.fetchall():\n",
    "        print(x)"
   ]
  },
  {
   "cell_type": "code",
   "execution_count": null,
   "id": "c5c85cb5",
   "metadata": {},
   "outputs": [],
   "source": []
  }
 ],
 "metadata": {
  "kernelspec": {
   "display_name": "porto",
   "language": "python",
   "name": "porto"
  },
  "language_info": {
   "codemirror_mode": {
    "name": "ipython",
    "version": 3
   },
   "file_extension": ".py",
   "mimetype": "text/x-python",
   "name": "python",
   "nbconvert_exporter": "python",
   "pygments_lexer": "ipython3",
   "version": "3.11.5"
  }
 },
 "nbformat": 4,
 "nbformat_minor": 5
}
