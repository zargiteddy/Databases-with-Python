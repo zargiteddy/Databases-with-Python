{
 "cells": [
  {
   "cell_type": "code",
   "execution_count": 2,
   "id": "f697ab06",
   "metadata": {},
   "outputs": [],
   "source": [
    "import pymongo"
   ]
  },
  {
   "cell_type": "markdown",
   "id": "0d820b37",
   "metadata": {},
   "source": [
    "### 1. Make a database and add new data into it"
   ]
  },
  {
   "cell_type": "code",
   "execution_count": 5,
   "id": "c0bf78d5",
   "metadata": {},
   "outputs": [
    {
     "name": "stdout",
     "output_type": "stream",
     "text": [
      "InsertOneResult(ObjectId('658a4cc77aabcadf9d4b6e62'), acknowledged=True)\n"
     ]
    }
   ],
   "source": [
    "client_new = pymongo.MongoClient('mongodb://localhost:27017')\n",
    "db = client_new['data_test']\n",
    "\n",
    "col_new = db['students']\n",
    "dict_new = {\"name\": \"Ronaldo\", \"code\": \"code07\"}\n",
    "add = col_new.insert_one(dict_new)\n",
    "\n",
    "print(add)"
   ]
  },
  {
   "cell_type": "markdown",
   "id": "e59703c4",
   "metadata": {},
   "source": [
    "### 2. Insert many documents"
   ]
  },
  {
   "cell_type": "code",
   "execution_count": 6,
   "id": "0c505269",
   "metadata": {},
   "outputs": [
    {
     "name": "stdout",
     "output_type": "stream",
     "text": [
      "[ObjectId('658a54c67aabcadf9d4b6e64'), ObjectId('658a54c67aabcadf9d4b6e65'), ObjectId('658a54c67aabcadf9d4b6e66'), ObjectId('658a54c67aabcadf9d4b6e67'), ObjectId('658a54c67aabcadf9d4b6e68'), ObjectId('658a54c67aabcadf9d4b6e69')]\n"
     ]
    }
   ],
   "source": [
    "client_new = pymongo.MongoClient('mongodb://localhost:27017')\n",
    "\n",
    "db = client_new['data_new']\n",
    "col_new = db['students']\n",
    "\n",
    "students_list = [\n",
    "    {\"name\": \"student00\", \"code\": \"code00\"},\n",
    "    {\"name\": \"student01\", \"code\": \"code01\"},\n",
    "    {\"name\": \"student02\", \"code\": \"code02\"},\n",
    "    {\"name\": \"student03\", \"code\": \"code03\"},\n",
    "    {\"name\": \"student04\", \"code\": \"code04\"},\n",
    "    {\"name\": \"student05\", \"code\": \"code05\"},\n",
    "]\n",
    "\n",
    "add_many = col_new.insert_many(students_list)\n",
    "\n",
    "print(add_many.inserted_ids)"
   ]
  },
  {
   "cell_type": "markdown",
   "id": "71bee7a6",
   "metadata": {},
   "source": [
    "### 3. Specify the ID for each document"
   ]
  },
  {
   "cell_type": "code",
   "execution_count": 7,
   "id": "3e5929b8",
   "metadata": {},
   "outputs": [
    {
     "name": "stdout",
     "output_type": "stream",
     "text": [
      "[1, 2, 3, 4, 5, 6]\n"
     ]
    }
   ],
   "source": [
    "client_new = pymongo.MongoClient('mongodb://localhost:27017')\n",
    "\n",
    "db = client_new['data_new']\n",
    "col_new = db['students_new']\n",
    "\n",
    "students_list = [\n",
    "    {\"_id\": 1, \"name\": \"student00\", \"code\": \"code00\"},\n",
    "    {\"_id\": 2, \"name\": \"student01\", \"code\": \"code01\"},\n",
    "    {\"_id\": 3, \"name\": \"student02\", \"code\": \"code02\"},\n",
    "    {\"_id\": 4, \"name\": \"student03\", \"code\": \"code03\"},\n",
    "    {\"_id\": 5, \"name\": \"student04\", \"code\": \"code04\"},\n",
    "    {\"_id\": 6, \"name\": \"student05\", \"code\": \"code05\"},\n",
    "]\n",
    "\n",
    "add_many = col_new.insert_many(students_list)\n",
    "\n",
    "print(add_many.inserted_ids)"
   ]
  },
  {
   "cell_type": "markdown",
   "id": "99bc4ec4",
   "metadata": {},
   "source": [
    "### 4. Display selected documents"
   ]
  },
  {
   "cell_type": "code",
   "execution_count": 8,
   "id": "d1777a58",
   "metadata": {},
   "outputs": [
    {
     "name": "stdout",
     "output_type": "stream",
     "text": [
      "{'_id': 1, 'name': 'student00', 'code': 'code00'}\n"
     ]
    }
   ],
   "source": [
    "find = col_new.find_one()\n",
    "print(find)"
   ]
  },
  {
   "cell_type": "code",
   "execution_count": 9,
   "id": "a19a57c8",
   "metadata": {},
   "outputs": [
    {
     "name": "stdout",
     "output_type": "stream",
     "text": [
      "{'_id': 1, 'name': 'student00', 'code': 'code00'}\n",
      "{'_id': 2, 'name': 'student01', 'code': 'code01'}\n",
      "{'_id': 3, 'name': 'student02', 'code': 'code02'}\n",
      "{'_id': 4, 'name': 'student03', 'code': 'code03'}\n",
      "{'_id': 5, 'name': 'student04', 'code': 'code04'}\n",
      "{'_id': 6, 'name': 'student05', 'code': 'code05'}\n"
     ]
    }
   ],
   "source": [
    "for document in col_new.find():\n",
    "    print(document)"
   ]
  },
  {
   "cell_type": "code",
   "execution_count": 10,
   "id": "0049cd1d",
   "metadata": {},
   "outputs": [
    {
     "name": "stdout",
     "output_type": "stream",
     "text": [
      "{'_id': 2, 'name': 'student01', 'code': 'code01'}\n"
     ]
    }
   ],
   "source": [
    "query_new = { \"code\": \"code01\"}\n",
    "doc_new = col_new.find(query_new)\n",
    "\n",
    "for document in doc_new:\n",
    "    print(document)"
   ]
  },
  {
   "cell_type": "code",
   "execution_count": 11,
   "id": "9b711f41",
   "metadata": {},
   "outputs": [
    {
     "name": "stdout",
     "output_type": "stream",
     "text": [
      "{'_id': 1, 'name': 'student00', 'code': 'code00'}\n",
      "{'_id': 2, 'name': 'student01', 'code': 'code01'}\n",
      "{'_id': 3, 'name': 'student02', 'code': 'code02'}\n",
      "{'_id': 4, 'name': 'student03', 'code': 'code03'}\n",
      "{'_id': 5, 'name': 'student04', 'code': 'code04'}\n",
      "{'_id': 6, 'name': 'student05', 'code': 'code05'}\n"
     ]
    }
   ],
   "source": [
    "query_new = { \"code\": {\"$gt\": \"code\"}}\n",
    "doc_new = col_new.find(query_new)\n",
    "\n",
    "for document in doc_new:\n",
    "    print(document)"
   ]
  },
  {
   "cell_type": "markdown",
   "id": "f24779cd",
   "metadata": {},
   "source": [
    "### 5. Sort the results"
   ]
  },
  {
   "cell_type": "code",
   "execution_count": 13,
   "id": "e7287ad5",
   "metadata": {},
   "outputs": [
    {
     "name": "stdout",
     "output_type": "stream",
     "text": [
      "{'_id': 6, 'name': 'student05', 'code': 'code05'}\n",
      "{'_id': 5, 'name': 'student04', 'code': 'code04'}\n",
      "{'_id': 4, 'name': 'student03', 'code': 'code03'}\n",
      "{'_id': 3, 'name': 'student02', 'code': 'code02'}\n",
      "{'_id': 2, 'name': 'student01', 'code': 'code01'}\n",
      "{'_id': 1, 'name': 'student00', 'code': 'code00'}\n"
     ]
    }
   ],
   "source": [
    "# descending\n",
    "\n",
    "query_new = col_new.find().sort(\"name\", -1)\n",
    "\n",
    "for document in query_new:\n",
    "    print(document)"
   ]
  },
  {
   "cell_type": "markdown",
   "id": "e5000179",
   "metadata": {},
   "source": [
    "### 6. Delete documents"
   ]
  },
  {
   "cell_type": "code",
   "execution_count": 14,
   "id": "86ce7750",
   "metadata": {},
   "outputs": [
    {
     "name": "stdout",
     "output_type": "stream",
     "text": [
      "{'_id': 1, 'name': 'student00', 'code': 'code00'}\n",
      "{'_id': 3, 'name': 'student02', 'code': 'code02'}\n",
      "{'_id': 4, 'name': 'student03', 'code': 'code03'}\n",
      "{'_id': 5, 'name': 'student04', 'code': 'code04'}\n",
      "{'_id': 6, 'name': 'student05', 'code': 'code05'}\n"
     ]
    }
   ],
   "source": [
    "query_new = {\"code\": \"code01\"}\n",
    "col_new.delete_one(query_new)\n",
    "\n",
    "for document in col_new.find():\n",
    "    print(document)"
   ]
  },
  {
   "cell_type": "code",
   "execution_count": 16,
   "id": "6ff231ad",
   "metadata": {},
   "outputs": [
    {
     "name": "stdout",
     "output_type": "stream",
     "text": [
      "1 documents deleted from the collection\n"
     ]
    }
   ],
   "source": [
    "q_new = {\"code\": {\"$regex\": \"^code03\"}}\n",
    "\n",
    "d = col_new.delete_many(q_new)\n",
    "print(d.deleted_count, \"documents deleted from the collection\")"
   ]
  },
  {
   "cell_type": "code",
   "execution_count": 17,
   "id": "ffc65220",
   "metadata": {},
   "outputs": [
    {
     "name": "stdout",
     "output_type": "stream",
     "text": [
      "4 documents deleted from the collection\n"
     ]
    }
   ],
   "source": [
    "remove_all = col_new.delete_many({})\n",
    "print(remove_all.deleted_count, \"documents deleted from the collection\")"
   ]
  },
  {
   "cell_type": "markdown",
   "id": "69af4933",
   "metadata": {},
   "source": [
    "### 7. Update a collection"
   ]
  },
  {
   "cell_type": "code",
   "execution_count": 18,
   "id": "1ce8769c",
   "metadata": {},
   "outputs": [],
   "source": [
    "client_new = pymongo.MongoClient('mongodb://localhost:27017')\n",
    "\n",
    "db = client_new['data_new']\n",
    "col_new = db['students_new']\n",
    "\n",
    "students_list = [\n",
    "    {\"_id\": 1, \"name\": \"student00\", \"code\": \"code00\"},\n",
    "    {\"_id\": 2, \"name\": \"student01\", \"code\": \"code01\"},\n",
    "    {\"_id\": 3, \"name\": \"student02\", \"code\": \"code02\"},\n",
    "    {\"_id\": 4, \"name\": \"student03\", \"code\": \"code03\"},\n",
    "    {\"_id\": 5, \"name\": \"student04\", \"code\": \"code04\"},\n",
    "    {\"_id\": 6, \"name\": \"student05\", \"code\": \"code05\"},\n",
    "]\n",
    "\n",
    "add_many = col_new.insert_many(students_list)"
   ]
  },
  {
   "cell_type": "code",
   "execution_count": 20,
   "id": "cb6393d2",
   "metadata": {},
   "outputs": [
    {
     "name": "stdout",
     "output_type": "stream",
     "text": [
      "{'_id': 1, 'name': 'student00', 'code': 'codeZero'}\n",
      "{'_id': 2, 'name': 'student01', 'code': 'code01'}\n",
      "{'_id': 3, 'name': 'student02', 'code': 'code02'}\n",
      "{'_id': 4, 'name': 'student03', 'code': 'code03'}\n",
      "{'_id': 5, 'name': 'student04', 'code': 'code04'}\n",
      "{'_id': 6, 'name': 'student05', 'code': 'code05'}\n"
     ]
    }
   ],
   "source": [
    "q_new = {\"code\": \"code00\"}\n",
    "vals_new = {\"$set\": {\"code\": \"codeZero\"}}\n",
    "\n",
    "col_new.update_one(q_new, vals_new)\n",
    "\n",
    "for document in col_new.find():\n",
    "    print(document)"
   ]
  },
  {
   "cell_type": "markdown",
   "id": "cc1155a0",
   "metadata": {},
   "source": [
    "### 8. Display limited results"
   ]
  },
  {
   "cell_type": "code",
   "execution_count": 21,
   "id": "53a58982",
   "metadata": {},
   "outputs": [
    {
     "name": "stdout",
     "output_type": "stream",
     "text": [
      "{'_id': 1, 'name': 'student00', 'code': 'codeZero'}\n",
      "{'_id': 2, 'name': 'student01', 'code': 'code01'}\n",
      "{'_id': 3, 'name': 'student02', 'code': 'code02'}\n"
     ]
    }
   ],
   "source": [
    "filter_result = col_new.find().limit(3)\n",
    "\n",
    "for document in filter_result:\n",
    "    print(document)"
   ]
  },
  {
   "cell_type": "code",
   "execution_count": null,
   "id": "a172ecb3",
   "metadata": {},
   "outputs": [],
   "source": []
  }
 ],
 "metadata": {
  "kernelspec": {
   "display_name": "porto",
   "language": "python",
   "name": "porto"
  },
  "language_info": {
   "codemirror_mode": {
    "name": "ipython",
    "version": 3
   },
   "file_extension": ".py",
   "mimetype": "text/x-python",
   "name": "python",
   "nbconvert_exporter": "python",
   "pygments_lexer": "ipython3",
   "version": "3.11.5"
  }
 },
 "nbformat": 4,
 "nbformat_minor": 5
}
