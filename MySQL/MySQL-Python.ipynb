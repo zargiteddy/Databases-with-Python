{
 "cells": [
  {
   "cell_type": "markdown",
   "id": "0e44bff2",
   "metadata": {},
   "source": [
    "### 1. Create a connection"
   ]
  },
  {
   "cell_type": "code",
   "execution_count": 9,
   "id": "2ec86886",
   "metadata": {},
   "outputs": [],
   "source": [
    "import mysql.connector"
   ]
  },
  {
   "cell_type": "code",
   "execution_count": 10,
   "id": "2a4feabb",
   "metadata": {},
   "outputs": [
    {
     "name": "stdout",
     "output_type": "stream",
     "text": [
      "<mysql.connector.connection_cext.CMySQLConnection object at 0x000002B6AAF60C90>\n"
     ]
    }
   ],
   "source": [
    "db = mysql.connector.connect(\n",
    "     host = \"localhost\",\n",
    "     user = \"root\",\n",
    "     password = \"root77\"\n",
    ")\n",
    "\n",
    "print(db)"
   ]
  },
  {
   "cell_type": "markdown",
   "id": "9b13440a",
   "metadata": {},
   "source": [
    "### 2. Create a database"
   ]
  },
  {
   "cell_type": "code",
   "execution_count": 11,
   "id": "0a3892d4",
   "metadata": {},
   "outputs": [],
   "source": [
    "import mysql.connector\n",
    "\n",
    "db = mysql.connector.connect(\n",
    "    host = \"localhost\",\n",
    "    user = \"root\",\n",
    "    password = \"root77\"\n",
    ")\n",
    "\n",
    "cursor_new = db.cursor()\n",
    "cursor_new.execute(\"CREATE DATABASE new_db\")"
   ]
  },
  {
   "cell_type": "markdown",
   "id": "0c3d73ba",
   "metadata": {},
   "source": [
    "### 3. Check if a database exists"
   ]
  },
  {
   "cell_type": "code",
   "execution_count": 12,
   "id": "03602353",
   "metadata": {},
   "outputs": [
    {
     "name": "stdout",
     "output_type": "stream",
     "text": [
      "('information_schema',)\n",
      "('mysql',)\n",
      "('new_db',)\n",
      "('performance_schema',)\n",
      "('sakila',)\n",
      "('sys',)\n",
      "('world',)\n"
     ]
    }
   ],
   "source": [
    "import mysql.connector\n",
    "\n",
    "db = mysql.connector.connect(\n",
    "    host = \"localhost\",\n",
    "    user = \"root\",\n",
    "    password = \"root77\"\n",
    ")\n",
    "\n",
    "cursor_new = db.cursor()\n",
    "cursor_new.execute(\"SHOW DATABASES\")\n",
    "\n",
    "for databases in cursor_new:\n",
    "    print(databases)"
   ]
  },
  {
   "cell_type": "code",
   "execution_count": 13,
   "id": "2cbde8f6",
   "metadata": {},
   "outputs": [],
   "source": [
    "import mysql.connector\n",
    "\n",
    "db = mysql.connector.connect(\n",
    "     host = \"localhost\",\n",
    "     user = \"root\",\n",
    "     password = \"root77\",\n",
    "     database = \"new_db\"\n",
    ")"
   ]
  },
  {
   "cell_type": "markdown",
   "id": "01af7cba",
   "metadata": {},
   "source": [
    "### 4. Create a table and show data"
   ]
  },
  {
   "cell_type": "code",
   "execution_count": 15,
   "id": "d6c2354a",
   "metadata": {},
   "outputs": [],
   "source": [
    "import mysql.connector\n",
    "\n",
    "db = mysql.connector.connect(\n",
    "     host = \"localhost\",\n",
    "     user = \"root\",\n",
    "     password = \"root77\",\n",
    "     database = \"new_db\"\n",
    ")\n",
    "\n",
    "cursor_new = db.cursor()\n",
    "cursor_new.execute(\"CREATE TABLE students (name VARCHAR(255), code VARCHAR(255))\")"
   ]
  },
  {
   "cell_type": "markdown",
   "id": "be82fb4a",
   "metadata": {},
   "source": [
    "### 5. List all tables in the new_db database"
   ]
  },
  {
   "cell_type": "code",
   "execution_count": 16,
   "id": "ac4f2f47",
   "metadata": {},
   "outputs": [
    {
     "name": "stdout",
     "output_type": "stream",
     "text": [
      "('students',)\n"
     ]
    }
   ],
   "source": [
    "import mysql.connector\n",
    "\n",
    "db = mysql.connector.connect(\n",
    "     host = \"localhost\",\n",
    "     user = \"root\",\n",
    "     password = \"root77\",\n",
    "     database = \"new_db\"\n",
    ")\n",
    "\n",
    "cursor_new = db.cursor()\n",
    "cursor_new.execute(\"SHOW TABLES\")\n",
    "\n",
    "for tables in cursor_new:\n",
    "    print(tables)"
   ]
  },
  {
   "cell_type": "markdown",
   "id": "117d0bf9",
   "metadata": {},
   "source": [
    "### 6. Add PRIMARY KEY when creating a table"
   ]
  },
  {
   "cell_type": "code",
   "execution_count": 17,
   "id": "fee3af4b",
   "metadata": {},
   "outputs": [],
   "source": [
    "import mysql.connector\n",
    "\n",
    "db = mysql.connector.connect(\n",
    "     host = \"localhost\",\n",
    "     user = \"root\",\n",
    "     password = \"root77\",\n",
    "     database = \"new_db\"\n",
    ")\n",
    "\n",
    "cursor_new = db.cursor()\n",
    "cursor_new.execute(\"CREATE TABLE clients (id INT AUTO_INCREMENT PRIMARY KEY, name VARCHAR(255), code VARCHAR(255))\")"
   ]
  },
  {
   "cell_type": "markdown",
   "id": "c44f7ebc",
   "metadata": {},
   "source": [
    "### 7. Add PRIMARY KEY if a table already exists"
   ]
  },
  {
   "cell_type": "code",
   "execution_count": 18,
   "id": "8d64c1fe",
   "metadata": {},
   "outputs": [],
   "source": [
    "import mysql.connector\n",
    "\n",
    "db = mysql.connector.connect(\n",
    "     host = \"localhost\",\n",
    "     user = \"root\",\n",
    "     password = \"root77\",\n",
    "     database = \"new_db\"\n",
    ")\n",
    "\n",
    "cursor_new = db.cursor()\n",
    "cursor_new.execute(\"ALTER TABLE students ADD COLUMN id INT AUTO_INCREMENT PRIMARY KEY\")"
   ]
  },
  {
   "cell_type": "markdown",
   "id": "3d94ad96",
   "metadata": {},
   "source": [
    "### 8. Inserting data into a table"
   ]
  },
  {
   "cell_type": "code",
   "execution_count": 20,
   "id": "29060e4c",
   "metadata": {},
   "outputs": [
    {
     "name": "stdout",
     "output_type": "stream",
     "text": [
      "1 new record inserted\n"
     ]
    }
   ],
   "source": [
    "import mysql.connector\n",
    "\n",
    "db = mysql.connector.connect(\n",
    "     host = \"localhost\",\n",
    "     user = \"root\",\n",
    "     password = \"root77\",\n",
    "     database = \"new_db\"\n",
    ")\n",
    "\n",
    "cursor_new = db.cursor()\n",
    "\n",
    "sql_new = \"INSERT INTO students (name, code) VALUES (%s, %s)\"\n",
    "vals_new = (\"Ronaldo\", \"CODE7\")\n",
    "\n",
    "cursor_new.execute(sql_new, vals_new)\n",
    "\n",
    "db.commit()\n",
    "\n",
    "print(cursor_new.rowcount, \"new record inserted\")"
   ]
  },
  {
   "cell_type": "markdown",
   "id": "db25d940",
   "metadata": {},
   "source": [
    "### 9. Insert many records into a table"
   ]
  },
  {
   "cell_type": "code",
   "execution_count": 22,
   "id": "8b9dad47",
   "metadata": {},
   "outputs": [
    {
     "name": "stdout",
     "output_type": "stream",
     "text": [
      "4 records inserted\n"
     ]
    }
   ],
   "source": [
    "import mysql.connector\n",
    "\n",
    "db = mysql.connector.connect(\n",
    "     host = \"localhost\",\n",
    "     user = \"root\",\n",
    "     password = \"root77\",\n",
    "     database = \"new_db\"\n",
    ")\n",
    "\n",
    "cursor_new = db.cursor()\n",
    "sql_new = \"INSERT INTO students (name, code) VALUES (%s, %s)\"\n",
    "vals_new = [\n",
    "    (\"Rooney\", \"CODE10\"),\n",
    "    (\"Valencia\", \"CODE25\"),\n",
    "    (\"Scholes\", \"CODE8\"),\n",
    "    (\"Giggs\", \"CODE11\")\n",
    "]\n",
    "\n",
    "cursor_new.executemany(sql_new, vals_new)\n",
    "\n",
    "db.commit()\n",
    "\n",
    "print(cursor_new.rowcount, \"records inserted\")"
   ]
  },
  {
   "cell_type": "markdown",
   "id": "f5a9629c",
   "metadata": {},
   "source": [
    "### 10. Select data from a table"
   ]
  },
  {
   "cell_type": "code",
   "execution_count": 24,
   "id": "272e9290",
   "metadata": {
    "scrolled": true
   },
   "outputs": [
    {
     "name": "stdout",
     "output_type": "stream",
     "text": [
      "('Ronaldo', 'CODE7', 1)\n",
      "('Ronaldo', 'CODE7', 2)\n",
      "('Rooney', 'CODE10', 3)\n",
      "('Valencia', 'CODE25', 4)\n",
      "('Scholes', 'CODE8', 5)\n",
      "('Giggs', 'CODE11', 6)\n"
     ]
    }
   ],
   "source": [
    "import mysql.connector\n",
    "\n",
    "db = mysql.connector.connect(\n",
    "     host = \"localhost\",\n",
    "     user = \"root\",\n",
    "     password = \"root77\",\n",
    "     database = \"new_db\"\n",
    ")\n",
    "\n",
    "cursor_new = db.cursor()\n",
    "cursor_new.execute(\"SELECT * FROM students\")\n",
    "data_new = cursor_new.fetchall()\n",
    "\n",
    "for fetch in data_new:\n",
    "    print(fetch)"
   ]
  },
  {
   "cell_type": "markdown",
   "id": "dfaf395d",
   "metadata": {},
   "source": [
    "### 11. Select data from a column"
   ]
  },
  {
   "cell_type": "code",
   "execution_count": 28,
   "id": "8d8af273",
   "metadata": {},
   "outputs": [
    {
     "name": "stdout",
     "output_type": "stream",
     "text": [
      "('Ronaldo',)\n",
      "('Ronaldo',)\n",
      "('Rooney',)\n",
      "('Valencia',)\n",
      "('Scholes',)\n",
      "('Giggs',)\n"
     ]
    }
   ],
   "source": [
    "import mysql.connector\n",
    "\n",
    "db = mysql.connector.connect(\n",
    "     host = \"localhost\",\n",
    "     user = \"root\",\n",
    "     password = \"root77\",\n",
    "     database = \"new_db\"\n",
    ")\n",
    "\n",
    "cursor_new = db.cursor()\n",
    "cursor_new.execute(\"SELECT name FROM students\")\n",
    "data_new = cursor_new.fetchall()\n",
    "\n",
    "for fetch in data_new:\n",
    "    print(fetch)"
   ]
  },
  {
   "cell_type": "code",
   "execution_count": 27,
   "id": "a34dce53",
   "metadata": {},
   "outputs": [
    {
     "name": "stdout",
     "output_type": "stream",
     "text": [
      "('CODE7',)\n",
      "('CODE7',)\n",
      "('CODE10',)\n",
      "('CODE25',)\n",
      "('CODE8',)\n",
      "('CODE11',)\n"
     ]
    }
   ],
   "source": [
    "import mysql.connector\n",
    "\n",
    "db = mysql.connector.connect(\n",
    "     host = \"localhost\",\n",
    "     user = \"root\",\n",
    "     password = \"root77\",\n",
    "     database = \"new_db\"\n",
    ")\n",
    "\n",
    "cursor_new = db.cursor()\n",
    "cursor_new.execute(\"SELECT code FROM students\")\n",
    "data_new = cursor_new.fetchall()\n",
    "\n",
    "for fetch in data_new:\n",
    "    print(fetch)"
   ]
  },
  {
   "cell_type": "markdown",
   "id": "22437fef",
   "metadata": {},
   "source": [
    "### 12. Get the first record"
   ]
  },
  {
   "cell_type": "code",
   "execution_count": 30,
   "id": "0077b3b5",
   "metadata": {},
   "outputs": [
    {
     "name": "stdout",
     "output_type": "stream",
     "text": [
      "('Ronaldo', 'CODE7', 1)\n"
     ]
    }
   ],
   "source": [
    "import mysql.connector\n",
    "\n",
    "db = mysql.connector.connect(\n",
    "     host = \"localhost\",\n",
    "     user = \"root\",\n",
    "     password = \"root77\",\n",
    "     database = \"new_db\"\n",
    ")\n",
    "\n",
    "cursor_new = db.cursor()\n",
    "cursor_new.execute(\"SELECT * FROM students\")\n",
    "data_new = cursor_new.fetchone()\n",
    "\n",
    "print(data_new)"
   ]
  },
  {
   "cell_type": "markdown",
   "id": "7ca08ae5",
   "metadata": {},
   "source": [
    "### 13. Filter the result"
   ]
  },
  {
   "cell_type": "code",
   "execution_count": 31,
   "id": "bd5820df",
   "metadata": {},
   "outputs": [
    {
     "name": "stdout",
     "output_type": "stream",
     "text": [
      "('Ronaldo', 'CODE7', 1)\n",
      "('Ronaldo', 'CODE7', 2)\n"
     ]
    }
   ],
   "source": [
    "import mysql.connector\n",
    "\n",
    "db = mysql.connector.connect(\n",
    "     host = \"localhost\",\n",
    "     user = \"root\",\n",
    "     password = \"root77\",\n",
    "     database = \"new_db\"\n",
    ")\n",
    "\n",
    "cursor_new = db.cursor()\n",
    "sql_new = \"SELECT * FROM students WHERE name = 'Ronaldo'\"\n",
    "cursor_new.execute(sql_new)\n",
    "data_new = cursor_new.fetchall()\n",
    "\n",
    "for fetch in data_new:\n",
    "    print(fetch)"
   ]
  },
  {
   "cell_type": "markdown",
   "id": "4bc71dd1",
   "metadata": {},
   "source": [
    "### 14. Wildcard characters"
   ]
  },
  {
   "cell_type": "code",
   "execution_count": 32,
   "id": "ec5581df",
   "metadata": {},
   "outputs": [
    {
     "name": "stdout",
     "output_type": "stream",
     "text": [
      "('Ronaldo', 'CODE7', 1)\n",
      "('Ronaldo', 'CODE7', 2)\n"
     ]
    }
   ],
   "source": [
    "import mysql.connector\n",
    "\n",
    "db = mysql.connector.connect(\n",
    "     host = \"localhost\",\n",
    "     user = \"root\",\n",
    "     password = \"root77\",\n",
    "     database = \"new_db\"\n",
    ")\n",
    "\n",
    "cursor_new = db.cursor()\n",
    "sql_new = \"SELECT * FROM students WHERE name LIKE '%Ronaldo%'\"\n",
    "cursor_new.execute(sql_new)\n",
    "data_new = cursor_new.fetchall()\n",
    "\n",
    "for fetch in data_new:\n",
    "    print(fetch)"
   ]
  },
  {
   "cell_type": "markdown",
   "id": "13fa3bc7",
   "metadata": {},
   "source": [
    "### 15. Sort the results"
   ]
  },
  {
   "cell_type": "code",
   "execution_count": 33,
   "id": "eb47e812",
   "metadata": {},
   "outputs": [
    {
     "name": "stdout",
     "output_type": "stream",
     "text": [
      "('Valencia', 'CODE25', 4)\n",
      "('Scholes', 'CODE8', 5)\n",
      "('Rooney', 'CODE10', 3)\n",
      "('Ronaldo', 'CODE7', 1)\n",
      "('Ronaldo', 'CODE7', 2)\n",
      "('Giggs', 'CODE11', 6)\n"
     ]
    }
   ],
   "source": [
    "import mysql.connector\n",
    "\n",
    "db = mysql.connector.connect(\n",
    "     host = \"localhost\",\n",
    "     user = \"root\",\n",
    "     password = \"root77\",\n",
    "     database = \"new_db\"\n",
    ")\n",
    "\n",
    "cursor_new = db.cursor()\n",
    "sql_new = \"SELECT * FROM students ORDER BY name DESC\"\n",
    "cursor_new.execute(sql_new)\n",
    "data_new = cursor_new.fetchall()\n",
    "\n",
    "for fetch in data_new:\n",
    "    print(fetch)"
   ]
  },
  {
   "cell_type": "markdown",
   "id": "211b0e1a",
   "metadata": {},
   "source": [
    "### 16. Delete records"
   ]
  },
  {
   "cell_type": "code",
   "execution_count": 36,
   "id": "73aa44c6",
   "metadata": {},
   "outputs": [
    {
     "name": "stdout",
     "output_type": "stream",
     "text": [
      "2 records deleted from new_db\n"
     ]
    }
   ],
   "source": [
    "import mysql.connector\n",
    "\n",
    "db = mysql.connector.connect(\n",
    "     host = \"localhost\",\n",
    "     user = \"root\",\n",
    "     password = \"root77\",\n",
    "     database = \"new_db\"\n",
    ")\n",
    "\n",
    "cursor_new = db.cursor()\n",
    "sql_new = \"DELETE FROM students WHERE name = %s\"\n",
    "name = (\"Ronaldo\",)\n",
    "\n",
    "cursor_new.execute(sql_new, name)\n",
    "db.commit()\n",
    "\n",
    "print(cursor_new.rowcount, \"records deleted from new_db\")"
   ]
  },
  {
   "cell_type": "markdown",
   "id": "f49d7d0f",
   "metadata": {},
   "source": [
    "### 17. Delete a table"
   ]
  },
  {
   "cell_type": "code",
   "execution_count": 37,
   "id": "1874a9e2",
   "metadata": {},
   "outputs": [],
   "source": [
    "import mysql.connector\n",
    "\n",
    "db = mysql.connector.connect(\n",
    "     host = \"localhost\",\n",
    "     user = \"root\",\n",
    "     password = \"root77\",\n",
    "     database = \"new_db\"\n",
    ")\n",
    "\n",
    "cursor_new = db.cursor()\n",
    "sql_new = \"DROP TABLE clients\"\n",
    "\n",
    "cursor_new.execute(sql_new)"
   ]
  },
  {
   "cell_type": "markdown",
   "id": "63d07b49",
   "metadata": {},
   "source": [
    "### 18. Update a table"
   ]
  },
  {
   "cell_type": "code",
   "execution_count": 38,
   "id": "b72febd6",
   "metadata": {},
   "outputs": [
    {
     "name": "stdout",
     "output_type": "stream",
     "text": [
      "1 records changed in students table\n"
     ]
    }
   ],
   "source": [
    "import mysql.connector\n",
    "\n",
    "db = mysql.connector.connect(\n",
    "     host = \"localhost\",\n",
    "     user = \"root\",\n",
    "     password = \"root77\",\n",
    "     database = \"new_db\"\n",
    ")\n",
    "\n",
    "cursor_new = db.cursor()\n",
    "sql_new = \"UPDATE students SET code = %s WHERE code = %s\"\n",
    "vals_new = (\"CODE18\", \"CODE8\")\n",
    "\n",
    "cursor_new.execute(sql_new, vals_new)\n",
    "db.commit()\n",
    "\n",
    "print(cursor_new.rowcount, \"records changed in students table\")"
   ]
  },
  {
   "cell_type": "markdown",
   "id": "d982eaff",
   "metadata": {},
   "source": [
    "### 19. Limit the records"
   ]
  },
  {
   "cell_type": "code",
   "execution_count": 39,
   "id": "23260920",
   "metadata": {},
   "outputs": [
    {
     "name": "stdout",
     "output_type": "stream",
     "text": [
      "('Rooney', 'CODE10', 3)\n",
      "('Valencia', 'CODE25', 4)\n"
     ]
    }
   ],
   "source": [
    "import mysql.connector\n",
    "\n",
    "db = mysql.connector.connect(\n",
    "     host = \"localhost\",\n",
    "     user = \"root\",\n",
    "     password = \"root77\",\n",
    "     database = \"new_db\"\n",
    ")\n",
    "\n",
    "cursor_new = db.cursor()\n",
    "sql_new = \"SELECT * FROM students LIMIT 2\"\n",
    "cursor_new.execute(sql_new)\n",
    "data_new = cursor_new.fetchall()\n",
    "\n",
    "for fetch in data_new:\n",
    "    print(fetch)"
   ]
  },
  {
   "cell_type": "code",
   "execution_count": 40,
   "id": "cf67f268",
   "metadata": {},
   "outputs": [
    {
     "name": "stdout",
     "output_type": "stream",
     "text": [
      "('Valencia', 'CODE25', 4)\n",
      "('Scholes', 'CODE18', 5)\n"
     ]
    }
   ],
   "source": [
    "import mysql.connector\n",
    "\n",
    "db = mysql.connector.connect(\n",
    "     host = \"localhost\",\n",
    "     user = \"root\",\n",
    "     password = \"root77\",\n",
    "     database = \"new_db\"\n",
    ")\n",
    "\n",
    "cursor_new = db.cursor()\n",
    "sql_new = \"SELECT * FROM students LIMIT 2 OFFSET 1\"\n",
    "cursor_new.execute(sql_new)\n",
    "data_new = cursor_new.fetchall()\n",
    "\n",
    "for fetch in data_new:\n",
    "    print(fetch)"
   ]
  },
  {
   "cell_type": "code",
   "execution_count": null,
   "id": "860091ad",
   "metadata": {},
   "outputs": [],
   "source": []
  }
 ],
 "metadata": {
  "kernelspec": {
   "display_name": "porto",
   "language": "python",
   "name": "porto"
  },
  "language_info": {
   "codemirror_mode": {
    "name": "ipython",
    "version": 3
   },
   "file_extension": ".py",
   "mimetype": "text/x-python",
   "name": "python",
   "nbconvert_exporter": "python",
   "pygments_lexer": "ipython3",
   "version": "3.11.5"
  }
 },
 "nbformat": 4,
 "nbformat_minor": 5
}
